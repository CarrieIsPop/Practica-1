{
  "cells": [
    {
      "cell_type": "markdown",
      "source": [
        "Ejercicio 1:"
      ],
      "metadata": {
        "id": "cyEHL36jiJpC"
      }
    },
    {
      "cell_type": "code",
      "source": [],
      "metadata": {
        "id": "BYJNRknkiMpK"
      },
      "execution_count": null,
      "outputs": []
    }
  ],
  "metadata": {
    "colab": {
      "name": "colab-github-demo.ipynb",
      "provenance": []
    },
    "kernelspec": {
      "display_name": "Python 3",
      "name": "python3"
    }
  },
  "nbformat": 4,
  "nbformat_minor": 0
}