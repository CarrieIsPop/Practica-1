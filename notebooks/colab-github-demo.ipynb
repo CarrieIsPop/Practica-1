{
  "cells": [
    {
      "cell_type": "markdown",
      "metadata": {
        "id": "view-in-github",
        "colab_type": "text"
      },
      "source": [
        "<a href=\"https://colab.research.google.com/github/CarrieIsPop/Practica-1/blob/main/notebooks/colab-github-demo.ipynb\" target=\"_parent\"><img src=\"https://colab.research.google.com/assets/colab-badge.svg\" alt=\"Open In Colab\"/></a>"
      ]
    },
    {
      "cell_type": "markdown",
      "source": [
        "1. Resolver con numpy los siguientes casos:"
      ],
      "metadata": {
        "id": "cyEHL36jiJpC"
      }
    },
    {
      "cell_type": "markdown",
      "source": [
        "Crear un vector con numeros enteros del 1 al 20"
      ],
      "metadata": {
        "id": "N2RqwKGQiuB5"
      }
    },
    {
      "cell_type": "code",
      "source": [
        "import numpy as np\n",
        "\n",
        "vector = np.arange(1, 21)\n",
        "print(vector)\n",
        "\n",
        "#GRAFICADO\n",
        "\n",
        "import matplotlib.pyplot as plt\n",
        "\n",
        "vector = np.arange(1, 21)\n",
        "\n",
        "plt.plot(vector, marker='o', linestyle='-', color='blue')\n",
        "plt.title('Vector de números del 1 al 20')\n",
        "plt.xlabel('Índice')\n",
        "plt.ylabel('Valor')\n",
        "plt.grid(True)\n",
        "plt.show()"
      ],
      "metadata": {
        "colab": {
          "base_uri": "https://localhost:8080/",
          "height": 489
        },
        "id": "BYJNRknkiMpK",
        "outputId": "cd4539cb-666a-499c-f3ec-ee82971f5999"
      },
      "execution_count": 2,
      "outputs": [
        {
          "output_type": "stream",
          "name": "stdout",
          "text": [
            "[ 1  2  3  4  5  6  7  8  9 10 11 12 13 14 15 16 17 18 19 20]\n"
          ]
        },
        {
          "output_type": "display_data",
          "data": {
            "text/plain": [
              "<Figure size 640x480 with 1 Axes>"
            ],
            "image/png": "[encoded data removed]"
          },
          "metadata": {}
        }
      ]
    },
    {
      "cell_type": "markdown",
      "source": [
        "Crea una matriz de 3x3 con valores aleatorios entre 0 y 1"
      ],
      "metadata": {
        "id": "if4ZiG-VjYBC"
      }
    },
    {
      "cell_type": "code",
      "source": [
        "import numpy as np\n",
        "\n",
        "matriz = np.random.rand(3, 3)\n",
        "print(matriz)"
      ],
      "metadata": {
        "colab": {
          "base_uri": "https://localhost:8080/"
        },
        "id": "on5FDKMQjctS",
        "outputId": "b113d694-dc9d-4733-c5ed-ded13e387bbb"
      },
      "execution_count": 5,
      "outputs": [
        {
          "output_type": "stream",
          "name": "stdout",
          "text": [
            "[[0.55274731 0.83377363 0.5438624 ]\n",
            " [0.76444687 0.78636784 0.30061881]\n",
            " [0.95793348 0.59000799 0.19718795]]\n"
          ]
        }
      ]
    },
    {
      "cell_type": "markdown",
      "source": [
        "Redimensiona una matriz de 4x4 a una matriz de 2x8"
      ],
      "metadata": {
        "id": "VOT1saRgjyYi"
      }
    },
    {
      "cell_type": "code",
      "source": [
        "import numpy as np\n",
        "\n",
        "matriz_original = np.random.rand(4, 4)\n",
        "\n",
        "matriz_redimensionada = matriz_original.reshape(2, 8)\n",
        "\n",
        "print(\"Matriz original (4x4):\")\n",
        "print(matriz_original)\n",
        "print(\"\\nMatriz redimensionada (2x8):\")\n",
        "print(matriz_redimensionada)"
      ],
      "metadata": {
        "colab": {
          "base_uri": "https://localhost:8080/"
        },
        "id": "hdkvq1cej3UZ",
        "outputId": "f6acef22-bb90-4463-d097-42fbc95f9056"
      },
      "execution_count": 8,
      "outputs": [
        {
          "output_type": "stream",
          "name": "stdout",
          "text": [
            "Matriz original (4x4):\n",
            "[[0.45744612 0.69243048 0.99019431 0.57140818]\n",
            " [0.91851653 0.52254828 0.13318792 0.44496897]\n",
            " [0.19769263 0.08322065 0.09628233 0.39566942]\n",
            " [0.79321485 0.35475006 0.5539058  0.77310832]]\n",
            "\n",
            "Matriz redimensionada (2x8):\n",
            "[[0.45744612 0.69243048 0.99019431 0.57140818 0.91851653 0.52254828\n",
            "  0.13318792 0.44496897]\n",
            " [0.19769263 0.08322065 0.09628233 0.39566942 0.79321485 0.35475006\n",
            "  0.5539058  0.77310832]]\n"
          ]
        }
      ]
    },
    {
      "cell_type": "markdown",
      "source": [
        "Crea un array de 10 numeros equidistantes entre 0 y 1"
      ],
      "metadata": {
        "id": "zFpxlyJIkBeq"
      }
    },
    {
      "cell_type": "code",
      "source": [
        "import numpy as np\n",
        "\n",
        "array = np.linspace(0, 1, 10)\n",
        "print(array)"
      ],
      "metadata": {
        "colab": {
          "base_uri": "https://localhost:8080/"
        },
        "id": "r4R_IyRgkGE6",
        "outputId": "f5f25e80-7934-4917-dc0b-0fee59c23a0b"
      },
      "execution_count": 9,
      "outputs": [
        {
          "output_type": "stream",
          "name": "stdout",
          "text": [
            "[0.         0.11111111 0.22222222 0.33333333 0.44444444 0.55555556\n",
            " 0.66666667 0.77777778 0.88888889 1.        ]\n"
          ]
        }
      ]
    },
    {
      "cell_type": "markdown",
      "source": [
        "Concatena dos vectores vertical y horizontalmente. (concatenate)"
      ],
      "metadata": {
        "id": "NjrgFSr9knk7"
      }
    },
    {
      "cell_type": "code",
      "source": [
        "import numpy as np\n",
        "\n",
        "vector1 = np.array([1, 2, 3])\n",
        "vector2 = np.array([4, 5, 6])\n",
        "\n",
        "horizontal = np.concatenate((vector1, vector2))\n",
        "print(\"Concatenación horizontal:\")\n",
        "print(horizontal)\n",
        "\n",
        "vertical = np.concatenate((vector1.reshape(-1, 1), vector2.reshape(-1, 1)), axis=1)\n",
        "print(\"\\nConcatenación vertical:\")\n",
        "print(vertical)"
      ],
      "metadata": {
        "colab": {
          "base_uri": "https://localhost:8080/"
        },
        "id": "Xadeiak3kx26",
        "outputId": "baf05c0e-5c08-4919-81eb-9d8d39b35135"
      },
      "execution_count": 10,
      "outputs": [
        {
          "output_type": "stream",
          "name": "stdout",
          "text": [
            "Concatenación horizontal:\n",
            "[1 2 3 4 5 6]\n",
            "\n",
            "Concatenación vertical:\n",
            "[[1 4]\n",
            " [2 5]\n",
            " [3 6]]\n"
          ]
        }
      ]
    },
    {
      "cell_type": "markdown",
      "source": [
        "2. Resolver las siguientes operaciones:"
      ],
      "metadata": {
        "id": "PieuoTnSk4f1"
      }
    },
    {
      "cell_type": "markdown",
      "source": [
        "Calcula la suma, resta, multiplicacion y division de dos vectores"
      ],
      "metadata": {
        "id": "gAVVELLyk80y"
      }
    },
    {
      "cell_type": "code",
      "source": [
        "import numpy as np\n",
        "\n",
        "vector1 = np.array([10, 20, 30])\n",
        "vector2 = np.array([1, 2, 3])\n",
        "\n",
        "suma = vector1 + vector2\n",
        "resta = vector1 - vector2\n",
        "multiplicacion = vector1 * vector2\n",
        "division = vector1 / vector2\n",
        "\n",
        "print(\"Suma:\", suma)\n",
        "print(\"Resta:\", resta)\n",
        "print(\"Multiplicación:\", multiplicacion)\n",
        "print(\"División:\", division)"
      ],
      "metadata": {
        "colab": {
          "base_uri": "https://localhost:8080/"
        },
        "id": "F_pq9u2yk8WZ",
        "outputId": "16b5bf28-6269-4f7a-d1fa-0b26c9dc2196"
      },
      "execution_count": 11,
      "outputs": [
        {
          "output_type": "stream",
          "name": "stdout",
          "text": [
            "Suma: [11 22 33]\n",
            "Resta: [ 9 18 27]\n",
            "Multiplicación: [10 40 90]\n",
            "División: [10. 10. 10.]\n"
          ]
        }
      ]
    },
    {
      "cell_type": "markdown",
      "source": [
        "Calcula la media, mediana, desviacion estandar de un vector"
      ],
      "metadata": {
        "id": "jI3h0AG1lVgi"
      }
    },
    {
      "cell_type": "code",
      "source": [
        "import numpy as np\n",
        "\n",
        "vector = np.array([5, 10, 15, 20, 25])\n",
        "\n",
        "media = np.mean(vector)\n",
        "mediana = np.median(vector)\n",
        "desviacion = np.std(vector)\n",
        "\n",
        "print(\"Media:\", media)\n",
        "print(\"Mediana:\", mediana)\n",
        "print(f\"Desviación estándar: {desviacion:.2f}\")"
      ],
      "metadata": {
        "colab": {
          "base_uri": "https://localhost:8080/"
        },
        "id": "9HmnWsznlan6",
        "outputId": "7d362de0-2d28-4621-cc3a-a5bfd733905c"
      },
      "execution_count": 13,
      "outputs": [
        {
          "output_type": "stream",
          "name": "stdout",
          "text": [
            "Media: 15.0\n",
            "Mediana: 15.0\n",
            "Desviación estándar: 7.07\n"
          ]
        }
      ]
    },
    {
      "cell_type": "markdown",
      "source": [
        "Normaliza un vector dividiendo cada elemento por el valor maximo"
      ],
      "metadata": {
        "id": "AXTYMDqtltNr"
      }
    },
    {
      "cell_type": "code",
      "source": [
        "import numpy as np\n",
        "\n",
        "vector = np.array([3, 6, 9, 12, 15])\n",
        "\n",
        "vector_normalizado = vector / np.max(vector)\n",
        "\n",
        "print(\"Vector normalizado:\", vector_normalizado)"
      ],
      "metadata": {
        "colab": {
          "base_uri": "https://localhost:8080/"
        },
        "id": "vT5-PqEJlzhq",
        "outputId": "69db606e-ee45-409b-87c4-e7ad642ac46c"
      },
      "execution_count": 14,
      "outputs": [
        {
          "output_type": "stream",
          "name": "stdout",
          "text": [
            "Vector normalizado: [0.2 0.4 0.6 0.8 1. ]\n"
          ]
        }
      ]
    },
    {
      "cell_type": "markdown",
      "source": [
        "Encuentra el indice del valor maximo y minimo de un vector"
      ],
      "metadata": {
        "id": "DsT_TPjDl6U6"
      }
    },
    {
      "cell_type": "code",
      "source": [
        "import numpy as np\n",
        "\n",
        "vector = np.array([8, 2, 9, 4, 6])\n",
        "\n",
        "valor_max = np.max(vector)\n",
        "valor_min = np.min(vector)\n",
        "\n",
        "indice_max = np.argmax(vector)\n",
        "indice_min = np.argmin(vector)\n",
        "\n",
        "print(\"Vector:\", vector)\n",
        "print(\"Valor máximo:\", valor_max, \"en el índice\", indice_max)\n",
        "print(\"Valor mínimo:\", valor_min, \"en el índice\", indice_min)"
      ],
      "metadata": {
        "colab": {
          "base_uri": "https://localhost:8080/"
        },
        "id": "glTa57Lil__7",
        "outputId": "5d0357b6-f192-48d6-ab69-494eb73c2726"
      },
      "execution_count": 21,
      "outputs": [
        {
          "output_type": "stream",
          "name": "stdout",
          "text": [
            "Vector: [8 2 9 4 6]\n",
            "Valor máximo: 9 en el índice 2\n",
            "Valor mínimo: 2 en el índice 1\n"
          ]
        }
      ]
    },
    {
      "cell_type": "markdown",
      "source": [
        "Realiza una multiplicacion matricial entre dos matrices 3x3"
      ],
      "metadata": {
        "id": "nYT6Cxhem08q"
      }
    },
    {
      "cell_type": "code",
      "source": [
        "import numpy as np\n",
        "\n",
        "matriz1 = np.random.rand(3, 3)\n",
        "matriz2 = np.random.rand(3, 3)\n",
        "\n",
        "resultado = np.dot(matriz1, matriz2)\n",
        "\n",
        "print(\"Matriz 1:\\n\", matriz1)\n",
        "print(\"\\nMatriz 2:\\n\", matriz2)\n",
        "print(\"\\nResultado de la multiplicación:\\n\", resultado)"
      ],
      "metadata": {
        "colab": {
          "base_uri": "https://localhost:8080/"
        },
        "id": "rwj1Y4Mym7Rj",
        "outputId": "f5c1892e-8a57-4bd4-c8ca-82240443acc6"
      },
      "execution_count": 22,
      "outputs": [
        {
          "output_type": "stream",
          "name": "stdout",
          "text": [
            "Matriz 1:\n",
            " [[0.34079273 0.61069152 0.38249463]\n",
            " [0.22539788 0.32470625 0.17975271]\n",
            " [0.82300981 0.43100715 0.57982642]]\n",
            "\n",
            "Matriz 2:\n",
            " [[0.64470638 0.19893735 0.99369029]\n",
            " [0.96418014 0.56551608 0.2249608 ]\n",
            " [0.86799139 0.52757149 0.3622251 ]]\n",
            "\n",
            "Resultado de la multiplicación:\n",
            " [[1.14052993 0.61494554 0.61457323]\n",
            " [0.61441457 0.32329907 0.36213281]\n",
            " [1.44945255 0.71336876 1.12480425]]\n"
          ]
        }
      ]
    },
    {
      "cell_type": "markdown",
      "source": [
        "3. Resolver con numpy los siguientes casos:"
      ],
      "metadata": {
        "id": "-ceJeWpZnCxy"
      }
    },
    {
      "cell_type": "markdown",
      "source": [
        "Selecciona los elementos pares de un vector de numeros enteros"
      ],
      "metadata": {
        "id": "dUHLenSinIc6"
      }
    },
    {
      "cell_type": "code",
      "source": [
        "import numpy as np\n",
        "\n",
        "vector = np.array([1, 2, 3, 4, 5, 6, 7, 8, 9, 10])\n",
        "\n",
        "pares = vector[vector % 2 == 0]\n",
        "\n",
        "print(\"Elementos pares:\", pares)"
      ],
      "metadata": {
        "colab": {
          "base_uri": "https://localhost:8080/"
        },
        "id": "BV2MFGDZnO1y",
        "outputId": "df7b429c-5158-4242-958b-afe9e5a34a32"
      },
      "execution_count": 23,
      "outputs": [
        {
          "output_type": "stream",
          "name": "stdout",
          "text": [
            "Elementos pares: [ 2  4  6  8 10]\n"
          ]
        }
      ]
    },
    {
      "cell_type": "markdown",
      "source": [
        "Filtra los valores mayores que 5 en un vector"
      ],
      "metadata": {
        "id": "ueuiruiEnUnK"
      }
    },
    {
      "cell_type": "code",
      "source": [
        "import numpy as np\n",
        "\n",
        "vector = np.array([2, 5, 7, 1, 9, 4, 6])\n",
        "\n",
        "mayores_que_5 = vector[vector > 5]\n",
        "\n",
        "print(\"Valores mayores que 5:\", mayores_que_5)"
      ],
      "metadata": {
        "colab": {
          "base_uri": "https://localhost:8080/"
        },
        "id": "nYaitHidnZqj",
        "outputId": "21e634b1-9048-45ce-f948-d12f600fecad"
      },
      "execution_count": 24,
      "outputs": [
        {
          "output_type": "stream",
          "name": "stdout",
          "text": [
            "Valores mayores que 5: [7 9 6]\n"
          ]
        }
      ]
    },
    {
      "cell_type": "markdown",
      "source": [
        "Filtra los valores iguales a cero"
      ],
      "metadata": {
        "id": "dPhSwyBKneqK"
      }
    },
    {
      "cell_type": "code",
      "source": [
        "import numpy as np\n",
        "\n",
        "vector = np.array([0, 3, 0, 7, 5, 0, 2])\n",
        "\n",
        "ceros = vector[vector == 0]\n",
        "\n",
        "cantidad_ceros = ceros.size\n",
        "\n",
        "print(\"Valores iguales a cero:\", ceros)\n",
        "print(\"Cantidad de ceros en el vector:\", cantidad_ceros)"
      ],
      "metadata": {
        "colab": {
          "base_uri": "https://localhost:8080/"
        },
        "id": "IEMEB0n5nh0b",
        "outputId": "68170755-ac98-4333-c0c4-4395189c9f8f"
      },
      "execution_count": 26,
      "outputs": [
        {
          "output_type": "stream",
          "name": "stdout",
          "text": [
            "Valores iguales a cero: [0 0 0]\n",
            "Cantidad de ceros en el vector: 3\n"
          ]
        }
      ]
    },
    {
      "cell_type": "markdown",
      "source": [
        "Filtra los valores negativos"
      ],
      "metadata": {
        "id": "yT5zIIDcntfU"
      }
    },
    {
      "cell_type": "code",
      "source": [
        "import numpy as np\n",
        "\n",
        "vector = np.array([-5, 3, -2, 7, 0, -8, 4])\n",
        "\n",
        "negativos = vector[vector < 0]\n",
        "\n",
        "print(\"Valores negativos:\", negativos)"
      ],
      "metadata": {
        "colab": {
          "base_uri": "https://localhost:8080/"
        },
        "id": "ryv1HjsKnvzq",
        "outputId": "fa3ca065-039c-4bd3-f1f2-13a629b79ec0"
      },
      "execution_count": 27,
      "outputs": [
        {
          "output_type": "stream",
          "name": "stdout",
          "text": [
            "Valores negativos: [-5 -2 -8]\n"
          ]
        }
      ]
    },
    {
      "cell_type": "markdown",
      "source": [
        "Aplicar la media a los valores mayores de 50"
      ],
      "metadata": {
        "id": "IZ9YT1yjn1Yx"
      }
    },
    {
      "cell_type": "code",
      "source": [
        "import numpy as np\n",
        "\n",
        "vector = np.array([45, 60, 75, 30, 90, 20, 55])\n",
        "\n",
        "mayores_50 = vector[vector > 50]\n",
        "\n",
        "media_mayores_50 = np.mean(mayores_50)\n",
        "\n",
        "print(\"Valores mayores de 50:\", mayores_50)\n",
        "print(\"Media de esos valores:\", media_mayores_50)"
      ],
      "metadata": {
        "colab": {
          "base_uri": "https://localhost:8080/"
        },
        "id": "3xzqT8gUn4zZ",
        "outputId": "f1f6aa1d-06bd-4a03-d353-a9ecae5fc462"
      },
      "execution_count": 28,
      "outputs": [
        {
          "output_type": "stream",
          "name": "stdout",
          "text": [
            "Valores mayores de 50: [60 75 90 55]\n",
            "Media de esos valores: 70.0\n"
          ]
        }
      ]
    },
    {
      "cell_type": "markdown",
      "source": [
        "4. Resolver con numpy los siguientes casos:"
      ],
      "metadata": {
        "id": "NIis5h4Wn_qT"
      }
    },
    {
      "cell_type": "markdown",
      "source": [
        "Crea un vector de 10 elementos y reemplaza todos los valores mayores que 5 con 0"
      ],
      "metadata": {
        "id": "4EsXPFgBoEZC"
      }
    },
    {
      "cell_type": "code",
      "source": [
        "import numpy as np\n",
        "\n",
        "vector = np.random.randint(0, 11, size=10)\n",
        "\n",
        "print(\"Vector original:\", vector)\n",
        "\n",
        "vector[vector > 5] = 0\n",
        "\n",
        "print(\"Vector modificado:\", vector)"
      ],
      "metadata": {
        "colab": {
          "base_uri": "https://localhost:8080/"
        },
        "id": "pyeNG70voD8K",
        "outputId": "3045ce93-bcc6-4a0a-e72d-de5a4d3f997d"
      },
      "execution_count": 30,
      "outputs": [
        {
          "output_type": "stream",
          "name": "stdout",
          "text": [
            "Vector original: [ 6  4  0  3  8 10  3  0  3  2]\n",
            "Vector modificado: [0 4 0 3 0 0 3 0 3 2]\n"
          ]
        }
      ]
    },
    {
      "cell_type": "markdown",
      "source": [
        "Combina dos vectores booleanos utilizando las operaciones &(AND) y I(OR)"
      ],
      "metadata": {
        "id": "2eZmPoylogSD"
      }
    },
    {
      "cell_type": "code",
      "source": [
        "import numpy as np\n",
        "\n",
        "a = np.array([True, False, True, False])\n",
        "b = np.array([True, True, False, False])\n",
        "\n",
        "and_result = a & b\n",
        "\n",
        "or_result = a | b\n",
        "\n",
        "print(\"AND:\", and_result)\n",
        "print(\"OR:\", or_result)"
      ],
      "metadata": {
        "colab": {
          "base_uri": "https://localhost:8080/"
        },
        "id": "e_ccGtTtooj7",
        "outputId": "5bb440f4-7f35-4930-b078-5f6de319cbe2"
      },
      "execution_count": 31,
      "outputs": [
        {
          "output_type": "stream",
          "name": "stdout",
          "text": [
            "AND: [ True False False False]\n",
            "OR: [ True  True  True False]\n"
          ]
        }
      ]
    },
    {
      "cell_type": "markdown",
      "source": [
        "Cuenta la cantidad de valores de un vector que son multiplos de 3"
      ],
      "metadata": {
        "id": "3UGtI_25ozZC"
      }
    },
    {
      "cell_type": "code",
      "source": [
        "import numpy as np\n",
        "\n",
        "vector = np.array([3, 5, 9, 12, 14, 18, 20])\n",
        "\n",
        "multiples_of_3 = vector % 3 == 0\n",
        "\n",
        "count = np.sum(multiples_of_3)\n",
        "\n",
        "print(vector)\n",
        "print(\"Cantidad de múltiplos de 3:\", count)"
      ],
      "metadata": {
        "colab": {
          "base_uri": "https://localhost:8080/"
        },
        "id": "ayeL9TbYo5Kq",
        "outputId": "8dbb38d6-feb8-4b48-9d27-4fceacb8fd4e"
      },
      "execution_count": 34,
      "outputs": [
        {
          "output_type": "stream",
          "name": "stdout",
          "text": [
            "[ 3  5  9 12 14 18 20]\n",
            "Cantidad de múltiplos de 3: 4\n"
          ]
        }
      ]
    },
    {
      "cell_type": "markdown",
      "source": [
        "Encuentra los indices de los elementos no nulos en un vector.(np.nonzero)"
      ],
      "metadata": {
        "id": "1E-hvneapE9D"
      }
    },
    {
      "cell_type": "code",
      "source": [
        "import numpy as np\n",
        "\n",
        "vector = np.array([0, 5, 0, 3, 0, 8])\n",
        "\n",
        "indices = np.nonzero(vector)\n",
        "\n",
        "print(vector)\n",
        "print(\"Índices de elementos no nulos:\", indices[0])"
      ],
      "metadata": {
        "colab": {
          "base_uri": "https://localhost:8080/"
        },
        "id": "eJnDFSGopL0i",
        "outputId": "264e8151-5395-43cb-beb9-87885a22652c"
      },
      "execution_count": 36,
      "outputs": [
        {
          "output_type": "stream",
          "name": "stdout",
          "text": [
            "[0 5 0 3 0 8]\n",
            "Índices de elementos no nulos: [1 3 5]\n"
          ]
        }
      ]
    },
    {
      "cell_type": "markdown",
      "source": [
        "Comprueba si todos los elementos en un array son mayores que un valor especifico digitado por el usuario"
      ],
      "metadata": {
        "id": "6IxR9LZ9pWW5"
      }
    },
    {
      "cell_type": "code",
      "source": [
        "import numpy as np\n",
        "\n",
        "array = np.array([10, 15, 20, 25])\n",
        "\n",
        "valor = int(input(\"Ingresa un valor: \"))\n",
        "\n",
        "resultado = np.all(array > valor)\n",
        "\n",
        "print(\"¿Todos los elementos son mayores que\", valor, \"?\", resultado)"
      ],
      "metadata": {
        "colab": {
          "base_uri": "https://localhost:8080/"
        },
        "id": "YvnXHg3UpfC7",
        "outputId": "8039003f-595d-4d4a-fd69-7dce2fa394bb"
      },
      "execution_count": 38,
      "outputs": [
        {
          "output_type": "stream",
          "name": "stdout",
          "text": [
            "Ingresa un valor: 35\n",
            "¿Todos los elementos son mayores que 35 ? False\n"
          ]
        }
      ]
    },
    {
      "cell_type": "markdown",
      "source": [
        "5. Resolver con numpy los siguientes casos:"
      ],
      "metadata": {
        "id": "u4Tr2JcbpsVD"
      }
    },
    {
      "cell_type": "markdown",
      "source": [
        "Calcula el cuadrado de cada elemento en un vector"
      ],
      "metadata": {
        "id": "uncSes3rpv2j"
      }
    },
    {
      "cell_type": "code",
      "source": [
        "import numpy as np\n",
        "\n",
        "vector = np.array([1, 2, 3, 4, 5])\n",
        "\n",
        "cuadrados = vector ** 2\n",
        "\n",
        "print(vector)\n",
        "print(\"Cuadrados:\", cuadrados)"
      ],
      "metadata": {
        "colab": {
          "base_uri": "https://localhost:8080/"
        },
        "id": "kRE3l4qDpz2D",
        "outputId": "92bfbcd2-7c31-4115-e20d-f2e4ed8b6b1c"
      },
      "execution_count": 40,
      "outputs": [
        {
          "output_type": "stream",
          "name": "stdout",
          "text": [
            "[1 2 3 4 5]\n",
            "Cuadrados: [ 1  4  9 16 25]\n"
          ]
        }
      ]
    },
    {
      "cell_type": "markdown",
      "source": [
        "Utiliza la funcion exponencial para elevar todos los elementos de un vector a la misma potencia"
      ],
      "metadata": {
        "id": "4CzXUZ0Wp9xq"
      }
    },
    {
      "cell_type": "code",
      "source": [
        "import numpy as np\n",
        "\n",
        "vector = np.array([2, 3, 4, 5])\n",
        "\n",
        "potencia = 3\n",
        "\n",
        "resultado = np.power(vector, potencia)\n",
        "\n",
        "print(vector)\n",
        "print(\"Resultado:\", resultado)"
      ],
      "metadata": {
        "colab": {
          "base_uri": "https://localhost:8080/"
        },
        "id": "0kWqoN1VqFMS",
        "outputId": "5f231b75-09ea-485c-de96-ccfd78a10cb7"
      },
      "execution_count": 42,
      "outputs": [
        {
          "output_type": "stream",
          "name": "stdout",
          "text": [
            "[2 3 4 5]\n",
            "Resultado: [  8  27  64 125]\n"
          ]
        }
      ]
    },
    {
      "cell_type": "markdown",
      "source": [
        "Encuentra los valores maximos y minimos en cada fila de una matriz"
      ],
      "metadata": {
        "id": "Ke5luqz7qOqT"
      }
    },
    {
      "cell_type": "code",
      "source": [
        "import numpy as np\n",
        "\n",
        "matriz = np.array([[3, 7, 2],\n",
        "                   [5, 1, 9],\n",
        "                   [8, 4, 6]])\n",
        "\n",
        "maximos = np.max(matriz, axis=1)\n",
        "\n",
        "minimos = np.min(matriz, axis=1)\n",
        "\n",
        "print(matriz)\n",
        "print(\"Máximos por fila:\", maximos)\n",
        "print(\"Mínimos por fila:\", minimos)"
      ],
      "metadata": {
        "colab": {
          "base_uri": "https://localhost:8080/"
        },
        "id": "a_rgjGDKqXwS",
        "outputId": "f69f07c2-f5a4-4645-b068-9b89b034f380"
      },
      "execution_count": 44,
      "outputs": [
        {
          "output_type": "stream",
          "name": "stdout",
          "text": [
            "[[3 7 2]\n",
            " [5 1 9]\n",
            " [8 4 6]]\n",
            "Máximos por fila: [7 9 8]\n",
            "Mínimos por fila: [2 1 4]\n"
          ]
        }
      ]
    },
    {
      "cell_type": "markdown",
      "source": [
        "Aplica la funcion sin a todos los elementos de un vector y almacena los resultados en otro vector"
      ],
      "metadata": {
        "id": "f0-nGJ8gqW06"
      }
    },
    {
      "cell_type": "code",
      "source": [
        "import numpy as np\n",
        "\n",
        "vector = np.array([0, np.pi/4, np.pi/2, np.pi])\n",
        "\n",
        "resultado = np.sin(vector)\n",
        "\n",
        "print(\"Vector original:\", vector)\n",
        "print(\"Seno de cada elemento:\", resultado)"
      ],
      "metadata": {
        "colab": {
          "base_uri": "https://localhost:8080/"
        },
        "id": "EmMs8XUQqnD7",
        "outputId": "0b676610-4854-47c7-a8d7-e1e992779281"
      },
      "execution_count": 45,
      "outputs": [
        {
          "output_type": "stream",
          "name": "stdout",
          "text": [
            "Vector original: [0.         0.78539816 1.57079633 3.14159265]\n",
            "Seno de cada elemento: [0.00000000e+00 7.07106781e-01 1.00000000e+00 1.22464680e-16]\n"
          ]
        }
      ]
    },
    {
      "cell_type": "markdown",
      "source": [
        "Realiza la transpuesta de una matriz 3x4"
      ],
      "metadata": {
        "id": "ieC_0xOhquz6"
      }
    },
    {
      "cell_type": "code",
      "source": [
        "import numpy as np\n",
        "\n",
        "matriz = np.array([[1, 2, 3, 4],\n",
        "                   [5, 6, 7, 8],\n",
        "                   [9, 10, 11, 12]])\n",
        "\n",
        "transpuesta = matriz.T\n",
        "\n",
        "print(\"Matriz original:\\n\", matriz)\n",
        "print(\"Matriz transpuesta:\\n\", transpuesta)"
      ],
      "metadata": {
        "colab": {
          "base_uri": "https://localhost:8080/"
        },
        "id": "HmA4dlSzqykz",
        "outputId": "fc6d0d5a-856a-4810-e07c-99cb7e210b82"
      },
      "execution_count": 46,
      "outputs": [
        {
          "output_type": "stream",
          "name": "stdout",
          "text": [
            "Matriz original:\n",
            " [[ 1  2  3  4]\n",
            " [ 5  6  7  8]\n",
            " [ 9 10 11 12]]\n",
            "Matriz transpuesta:\n",
            " [[ 1  5  9]\n",
            " [ 2  6 10]\n",
            " [ 3  7 11]\n",
            " [ 4  8 12]]\n"
          ]
        }
      ]
    },
    {
      "cell_type": "markdown",
      "source": [
        "6. Crea un DataFrame con las siguientes columnas: 'Nombre', 'Edad', 'Ciudad'.\n",
        "Añade al menos 10 registros"
      ],
      "metadata": {
        "id": "oAQ3S-w-q40j"
      }
    },
    {
      "cell_type": "code",
      "source": [
        "import pandas as pd\n",
        "\n",
        "datos = {\n",
        "    'Nombre': ['Ana', 'Luis', 'María', 'Carlos', 'Sofía', 'Jorge', 'Lucía', 'Pedro', 'Elena', 'Raúl'],\n",
        "    'Edad': [19, 23, 28, 45, 22, 36, 30, 40, 27, 20],\n",
        "    'Ciudad': ['Lima', 'Cusco', 'Puno', 'Puno', 'Piura', 'Cusco', 'Iquitos', 'Lima', 'Huancayo', 'Puno']\n",
        "    }\n",
        "\n",
        "df = pd.DataFrame(datos)\n",
        "\n",
        "print(df)"
      ],
      "metadata": {
        "colab": {
          "base_uri": "https://localhost:8080/"
        },
        "id": "rCk5eSHHrHJK",
        "outputId": "b9839168-c0ff-47b9-e672-d642beaafe73"
      },
      "execution_count": 56,
      "outputs": [
        {
          "output_type": "stream",
          "name": "stdout",
          "text": [
            "   Nombre  Edad    Ciudad\n",
            "0     Ana    19      Lima\n",
            "1    Luis    23     Cusco\n",
            "2   María    28      Puno\n",
            "3  Carlos    45      Puno\n",
            "4   Sofía    22     Piura\n",
            "5   Jorge    36     Cusco\n",
            "6   Lucía    30   Iquitos\n",
            "7   Pedro    40      Lima\n",
            "8   Elena    27  Huancayo\n",
            "9    Raúl    20      Puno\n"
          ]
        }
      ]
    },
    {
      "cell_type": "markdown",
      "source": [
        "Filtrar a las personas mayores a 25 años"
      ],
      "metadata": {
        "id": "SxjQCIh3rYBq"
      }
    },
    {
      "cell_type": "code",
      "source": [
        "mayores_25 = df[df['Edad'] > 25]\n",
        "\n",
        "print(mayores_25)"
      ],
      "metadata": {
        "colab": {
          "base_uri": "https://localhost:8080/"
        },
        "id": "wKoWT8jLrcqb",
        "outputId": "10ff0c7f-e20d-4032-8193-59236fa8916a"
      },
      "execution_count": 57,
      "outputs": [
        {
          "output_type": "stream",
          "name": "stdout",
          "text": [
            "   Nombre  Edad    Ciudad\n",
            "2   María    28      Puno\n",
            "3  Carlos    45      Puno\n",
            "5   Jorge    36     Cusco\n",
            "6   Lucía    30   Iquitos\n",
            "7   Pedro    40      Lima\n",
            "8   Elena    27  Huancayo\n"
          ]
        }
      ]
    },
    {
      "cell_type": "markdown",
      "source": [
        "Agregar una nueva columna llamada ingresos y rellenala"
      ],
      "metadata": {
        "id": "GouhMKjdrrxT"
      }
    },
    {
      "cell_type": "code",
      "source": [
        "df['Ingresos'] = [2500, 3200, 2800, 4000, 2300, 3600, 3100, 3900, 2700, 3300]\n",
        "\n",
        "print(df)"
      ],
      "metadata": {
        "colab": {
          "base_uri": "https://localhost:8080/"
        },
        "id": "5TpVAbZ6rxma",
        "outputId": "5b99e492-c8a8-4e80-c223-7438bfda3f29"
      },
      "execution_count": 58,
      "outputs": [
        {
          "output_type": "stream",
          "name": "stdout",
          "text": [
            "   Nombre  Edad    Ciudad  Ingresos\n",
            "0     Ana    19      Lima      2500\n",
            "1    Luis    23     Cusco      3200\n",
            "2   María    28      Puno      2800\n",
            "3  Carlos    45      Puno      4000\n",
            "4   Sofía    22     Piura      2300\n",
            "5   Jorge    36     Cusco      3600\n",
            "6   Lucía    30   Iquitos      3100\n",
            "7   Pedro    40      Lima      3900\n",
            "8   Elena    27  Huancayo      2700\n",
            "9    Raúl    20      Puno      3300\n"
          ]
        }
      ]
    },
    {
      "cell_type": "markdown",
      "source": [
        "Encuentra el promedio de la edad"
      ],
      "metadata": {
        "id": "d6vtfgNKr3Oy"
      }
    },
    {
      "cell_type": "code",
      "source": [
        "promedio_edad = df['Edad'].mean()\n",
        "print(f\"El promedio de edad es: {promedio_edad:.0f} años\")"
      ],
      "metadata": {
        "colab": {
          "base_uri": "https://localhost:8080/"
        },
        "id": "X3bYhUrar5wy",
        "outputId": "784d1749-21f7-4795-9c3e-d99a47235130"
      },
      "execution_count": 54,
      "outputs": [
        {
          "output_type": "stream",
          "name": "stdout",
          "text": [
            "El promedio de edad es: 29 años\n"
          ]
        }
      ]
    },
    {
      "cell_type": "markdown",
      "source": [
        "Cuenta las veces que aparece cada ciudad"
      ],
      "metadata": {
        "id": "tkG6YFrCsA9C"
      }
    },
    {
      "cell_type": "code",
      "source": [
        "conteo_ciudades = df['Ciudad'].value_counts()\n",
        "print(conteo_ciudades)"
      ],
      "metadata": {
        "colab": {
          "base_uri": "https://localhost:8080/"
        },
        "id": "d7s7i-ASsHoJ",
        "outputId": "29790cd8-ee93-407e-b782-5ab1da94e47a"
      },
      "execution_count": 59,
      "outputs": [
        {
          "output_type": "stream",
          "name": "stdout",
          "text": [
            "Ciudad\n",
            "Puno        3\n",
            "Lima        2\n",
            "Cusco       2\n",
            "Piura       1\n",
            "Iquitos     1\n",
            "Huancayo    1\n",
            "Name: count, dtype: int64\n"
          ]
        }
      ]
    },
    {
      "cell_type": "markdown",
      "source": [
        "Agrupa el DataFrame por ciudad y calcula el promedio de edad para cada ciudad"
      ],
      "metadata": {
        "id": "i9z4hvMbsWHb"
      }
    },
    {
      "cell_type": "code",
      "source": [
        "promedio_edad_por_ciudad = df.groupby('Ciudad')['Edad'].mean()\n",
        "print(promedio_edad_por_ciudad)"
      ],
      "metadata": {
        "colab": {
          "base_uri": "https://localhost:8080/"
        },
        "id": "3fiI4xF4sfqK",
        "outputId": "811fc5e7-c9cf-4c11-ed73-46fe3d1c4acb"
      },
      "execution_count": 62,
      "outputs": [
        {
          "output_type": "stream",
          "name": "stdout",
          "text": [
            "Ciudad\n",
            "Cusco       29.5\n",
            "Huancayo    27.0\n",
            "Iquitos     30.0\n",
            "Lima        29.5\n",
            "Piura       22.0\n",
            "Puno        31.0\n",
            "Name: Edad, dtype: float64\n"
          ]
        }
      ]
    },
    {
      "cell_type": "markdown",
      "source": [
        "Ordenar por edad el DataFrame de manera ascendente y luego descendente"
      ],
      "metadata": {
        "id": "oq_ah0gjstXj"
      }
    },
    {
      "cell_type": "code",
      "source": [
        "df_ascendente = df.sort_values(by='Edad', ascending=True)\n",
        "print(\"Orden ascendente por edad:\")\n",
        "print(df_ascendente)\n",
        "\n",
        "df_descendente = df.sort_values(by='Edad', ascending=False)\n",
        "print(\"\\nOrden descendente por edad:\")\n",
        "print(df_descendente)"
      ],
      "metadata": {
        "colab": {
          "base_uri": "https://localhost:8080/"
        },
        "id": "BoiyNow-szWa",
        "outputId": "69580be0-ed4e-4263-bc86-5ef731dbc683"
      },
      "execution_count": 63,
      "outputs": [
        {
          "output_type": "stream",
          "name": "stdout",
          "text": [
            "Orden ascendente por edad:\n",
            "   Nombre  Edad    Ciudad  Ingresos\n",
            "0     Ana    19      Lima      2500\n",
            "9    Raúl    20      Puno      3300\n",
            "4   Sofía    22     Piura      2300\n",
            "1    Luis    23     Cusco      3200\n",
            "8   Elena    27  Huancayo      2700\n",
            "2   María    28      Puno      2800\n",
            "6   Lucía    30   Iquitos      3100\n",
            "5   Jorge    36     Cusco      3600\n",
            "7   Pedro    40      Lima      3900\n",
            "3  Carlos    45      Puno      4000\n",
            "\n",
            "Orden descendente por edad:\n",
            "   Nombre  Edad    Ciudad  Ingresos\n",
            "3  Carlos    45      Puno      4000\n",
            "7   Pedro    40      Lima      3900\n",
            "5   Jorge    36     Cusco      3600\n",
            "6   Lucía    30   Iquitos      3100\n",
            "2   María    28      Puno      2800\n",
            "8   Elena    27  Huancayo      2700\n",
            "1    Luis    23     Cusco      3200\n",
            "4   Sofía    22     Piura      2300\n",
            "9    Raúl    20      Puno      3300\n",
            "0     Ana    19      Lima      2500\n"
          ]
        }
      ]
    },
    {
      "cell_type": "markdown",
      "source": [
        "7. Del arcivo adjunto realizar los siguientes filtros:"
      ],
      "metadata": {
        "id": "36qS6IDis6O7"
      }
    },
    {
      "cell_type": "markdown",
      "source": [
        "Indicar cuantos son de la carrera de Ing. en sistemas"
      ],
      "metadata": {
        "id": "rUD7NLSYs-vS"
      }
    },
    {
      "cell_type": "code",
      "source": [
        "import pandas as pd\n",
        "\n",
        "df = pd.read_excel('universidad.xlsx')\n",
        "\n",
        "filtro_sistemas = df[df['Carrera'] == 'Ing. en sistemas']\n",
        "\n",
        "cantidad = filtro_sistemas.shape[0]\n",
        "print(f\"Cantidad de estudiantes en Ing. en sistemas: {cantidad}\")"
      ],
      "metadata": {
        "colab": {
          "base_uri": "https://localhost:8080/"
        },
        "id": "9ehe9SkMtDH7",
        "outputId": "aff2a141-4071-4269-fe74-5dd55d2a776a"
      },
      "execution_count": 74,
      "outputs": [
        {
          "output_type": "stream",
          "name": "stdout",
          "text": [
            "Cantidad de estudiantes en Ing. en sistemas: 13\n"
          ]
        }
      ]
    },
    {
      "cell_type": "markdown",
      "source": [
        "Indicar cuantos son de la carrera de Ing. en derecho"
      ],
      "metadata": {
        "id": "u4b7UKWytd_T"
      }
    },
    {
      "cell_type": "code",
      "source": [
        "df = pd.read_excel('universidad.xlsx')\n",
        "\n",
        "filtro_derecho = df[df['Carrera'] == 'Lic. en derecho']\n",
        "\n",
        "cantidad = filtro_derecho.shape[0]\n",
        "print(f\"Cantidad de estudiantes en Lic. en derecho: {cantidad}\")"
      ],
      "metadata": {
        "colab": {
          "base_uri": "https://localhost:8080/"
        },
        "id": "Qh0A7fXytiC6",
        "outputId": "134bfd27-c0cc-4bf8-e4f2-982b57e51687"
      },
      "execution_count": 85,
      "outputs": [
        {
          "output_type": "stream",
          "name": "stdout",
          "text": [
            "Cantidad de estudiantes en Lic. en derecho: 17\n"
          ]
        }
      ]
    },
    {
      "cell_type": "markdown",
      "source": [
        "Indicar cuantos son de la carreara de Lic. en derecho"
      ],
      "metadata": {
        "id": "-LAwYebLwgO9"
      }
    },
    {
      "cell_type": "code",
      "source": [
        "df = pd.read_excel('universidad.xlsx')\n",
        "\n",
        "filtro_derecho = df[df['Carrera'] == 'Ing. en derecho']\n",
        "\n",
        "cantidad = filtro_derecho.shape[0]\n",
        "print(f\"Cantidad de estudiantes en Ing. en derecho: {cantidad}\")"
      ],
      "metadata": {
        "id": "9L2g5GvbwllL",
        "outputId": "8ca723d3-1b94-46c6-e690-c32bcc864d63",
        "colab": {
          "base_uri": "https://localhost:8080/"
        }
      },
      "execution_count": 86,
      "outputs": [
        {
          "output_type": "stream",
          "name": "stdout",
          "text": [
            "Cantidad de estudiantes en Ing. en derecho: 0\n"
          ]
        }
      ]
    },
    {
      "cell_type": "markdown",
      "source": [
        "Indicar cuantos se inscribieron en el año 2015"
      ],
      "metadata": {
        "id": "7ESYbi20ty3L"
      }
    },
    {
      "cell_type": "code",
      "source": [
        "df = pd.read_excel('universidad.xlsx')\n",
        "\n",
        "df['Inscripción'] = pd.to_datetime(df['Inscripción'], errors='coerce')\n",
        "\n",
        "filtro_2015 = df[df['Inscripción'].dt.year == 2015]\n",
        "\n",
        "cantidad = filtro_2015.shape[0]\n",
        "print(f\"Cantidad de estudiantes inscritos en el año 2015: {cantidad}\")"
      ],
      "metadata": {
        "colab": {
          "base_uri": "https://localhost:8080/"
        },
        "id": "anxRY-ULt2c6",
        "outputId": "f731ad90-f74b-4844-8090-426740633de1"
      },
      "execution_count": 82,
      "outputs": [
        {
          "output_type": "stream",
          "name": "stdout",
          "text": [
            "Cantidad de estudiantes inscritos en el año 2015: 23\n"
          ]
        }
      ]
    },
    {
      "cell_type": "markdown",
      "source": [
        "Indicar cuantos son del 1 y 2 semestre"
      ],
      "metadata": {
        "id": "AU09JlZ7vAOr"
      }
    },
    {
      "cell_type": "code",
      "source": [
        "semestre_1 = df[df['Semestre'] == 1].shape[0]\n",
        "semestre_2 = df[df['Semestre'] == 2].shape[0]\n",
        "\n",
        "print(f\"Estudiantes en 1er semestre: {semestre_1}\")\n",
        "print(f\"Estudiantes en 2do semestre: {semestre_2}\")"
      ],
      "metadata": {
        "colab": {
          "base_uri": "https://localhost:8080/"
        },
        "id": "VKnJA17IvCkw",
        "outputId": "b7179efe-2d59-4437-b9f8-c5f60f70e3f8"
      },
      "execution_count": 83,
      "outputs": [
        {
          "output_type": "stream",
          "name": "stdout",
          "text": [
            "Estudiantes en 1er semestre: 11\n",
            "Estudiantes en 2do semestre: 11\n"
          ]
        }
      ]
    }
  ],
  "metadata": {
    "colab": {
      "name": "colab-github-demo.ipynb",
      "provenance": [],
      "include_colab_link": true
    },
    "kernelspec": {
      "display_name": "Python 3",
      "name": "python3"
    }
  },
  "nbformat": 4,
  "nbformat_minor": 0
}